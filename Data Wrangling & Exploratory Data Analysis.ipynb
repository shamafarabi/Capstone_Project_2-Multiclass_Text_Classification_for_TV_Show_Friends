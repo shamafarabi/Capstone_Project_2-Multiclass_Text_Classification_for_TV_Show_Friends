{
 "cells": [
  {
   "cell_type": "markdown",
   "metadata": {},
   "source": [
    "# Import Packages"
   ]
  },
  {
   "cell_type": "code",
   "execution_count": 14,
   "metadata": {},
   "outputs": [],
   "source": [
    "import pandas as pd\n",
    "import numpy as np\n",
    "from collections import defaultdict\n",
    "import re\n",
    "import json\n",
    "import seaborn as sns\n",
    "import matplotlib.pyplot as plt\n",
    "import warnings\n"
   ]
  },
  {
   "cell_type": "markdown",
   "metadata": {},
   "source": [
    "# Import Data after Webscraping"
   ]
  },
  {
   "cell_type": "code",
   "execution_count": 16,
   "metadata": {},
   "outputs": [
    {
     "data": {
      "text/plain": [
       "dict_keys(['Episodes', 'Episode_Names', 'Characters', 'Lines'])"
      ]
     },
     "execution_count": 16,
     "metadata": {},
     "output_type": "execute_result"
    }
   ],
   "source": [
    "json1_file = open(\"Friends_transcripts.json\")\n",
    "json1_str = json1_file.read()\n",
    "json1_data = json.loads(json1_str)\n",
    "json1_data.keys()"
   ]
  },
  {
   "cell_type": "markdown",
   "metadata": {},
   "source": [
    "# Data Inspection"
   ]
  },
  {
   "cell_type": "code",
   "execution_count": 17,
   "metadata": {},
   "outputs": [
    {
     "name": "stdout",
     "output_type": "stream",
     "text": [
      "<class 'pandas.core.frame.DataFrame'>\n",
      "RangeIndex: 48944 entries, 0 to 48943\n",
      "Data columns (total 4 columns):\n",
      "Episodes         48944 non-null object\n",
      "Episode_Names    48944 non-null object\n",
      "Characters       48944 non-null object\n",
      "Lines            48944 non-null object\n",
      "dtypes: object(4)\n",
      "memory usage: 1.5+ MB\n"
     ]
    }
   ],
   "source": [
    "pd.set_option('display.max_colwidth', -1)\n",
    "data = pd.DataFrame.from_dict(json1_data)\n",
    "data.info()"
   ]
  },
  {
   "cell_type": "code",
   "execution_count": 18,
   "metadata": {},
   "outputs": [
    {
     "data": {
      "text/html": [
       "<div>\n",
       "<style scoped>\n",
       "    .dataframe tbody tr th:only-of-type {\n",
       "        vertical-align: middle;\n",
       "    }\n",
       "\n",
       "    .dataframe tbody tr th {\n",
       "        vertical-align: top;\n",
       "    }\n",
       "\n",
       "    .dataframe thead th {\n",
       "        text-align: right;\n",
       "    }\n",
       "</style>\n",
       "<table border=\"1\" class=\"dataframe\">\n",
       "  <thead>\n",
       "    <tr style=\"text-align: right;\">\n",
       "      <th></th>\n",
       "      <th>Episodes</th>\n",
       "      <th>Episode_Names</th>\n",
       "      <th>Characters</th>\n",
       "      <th>Lines</th>\n",
       "    </tr>\n",
       "  </thead>\n",
       "  <tbody>\n",
       "    <tr>\n",
       "      <th>0</th>\n",
       "      <td>101</td>\n",
       "      <td>Monica Gets A Roommate</td>\n",
       "      <td>Monica</td>\n",
       "      <td>There's nothing to tell! He's just some guy\\nI work with!</td>\n",
       "    </tr>\n",
       "    <tr>\n",
       "      <th>1</th>\n",
       "      <td>101</td>\n",
       "      <td>Monica Gets A Roommate</td>\n",
       "      <td>Joey</td>\n",
       "      <td>C'mon, you're going out with the guy! There's\\ngotta be something wrong with him!</td>\n",
       "    </tr>\n",
       "    <tr>\n",
       "      <th>2</th>\n",
       "      <td>101</td>\n",
       "      <td>Monica Gets A Roommate</td>\n",
       "      <td>Chandler</td>\n",
       "      <td>All right Joey, be\\nnice.  So does he have a hump? A hump and a hairpiece?</td>\n",
       "    </tr>\n",
       "    <tr>\n",
       "      <th>3</th>\n",
       "      <td>101</td>\n",
       "      <td>Monica Gets A Roommate</td>\n",
       "      <td>Phoebe</td>\n",
       "      <td>Wait, does he eat chalk?</td>\n",
       "    </tr>\n",
       "    <tr>\n",
       "      <th>4</th>\n",
       "      <td>101</td>\n",
       "      <td>Monica Gets A Roommate</td>\n",
       "      <td>Phoebe</td>\n",
       "      <td>Just, 'cause, I don't want her to go through\\nwhat I went through with Carl- oh!</td>\n",
       "    </tr>\n",
       "  </tbody>\n",
       "</table>\n",
       "</div>"
      ],
      "text/plain": [
       "  Episodes             Episode_Names Characters  \\\n",
       "0  101       Monica Gets A Roommate   Monica      \n",
       "1  101       Monica Gets A Roommate   Joey        \n",
       "2  101       Monica Gets A Roommate   Chandler    \n",
       "3  101       Monica Gets A Roommate   Phoebe      \n",
       "4  101       Monica Gets A Roommate   Phoebe      \n",
       "\n",
       "                                                                                Lines  \n",
       "0   There's nothing to tell! He's just some guy\\nI work with!                          \n",
       "1   C'mon, you're going out with the guy! There's\\ngotta be something wrong with him!  \n",
       "2   All right Joey, be\\nnice.  So does he have a hump? A hump and a hairpiece?         \n",
       "3   Wait, does he eat chalk?                                                           \n",
       "4   Just, 'cause, I don't want her to go through\\nwhat I went through with Carl- oh!   "
      ]
     },
     "execution_count": 18,
     "metadata": {},
     "output_type": "execute_result"
    }
   ],
   "source": [
    "data.head()"
   ]
  },
  {
   "cell_type": "markdown",
   "metadata": {},
   "source": [
    "> It seems that character names are sometimes written in captial cases. and sometimes in lower case."
   ]
  },
  {
   "cell_type": "code",
   "execution_count": 19,
   "metadata": {},
   "outputs": [
    {
     "data": {
      "text/plain": [
       "['Episodes', 'Episode_Names', 'Characters', 'Lines', 'Season']"
      ]
     },
     "execution_count": 19,
     "metadata": {},
     "output_type": "execute_result"
    }
   ],
   "source": [
    "# Lets make the character names consistent and add a new column 'Season'\n",
    "data.Characters = data.Characters.apply (lambda x:  str.upper(x))\n",
    "data['Season']= data.Episodes. apply(lambda x: int(x[0]))\n",
    "data_columns = list(data.columns)\n",
    "data_columns"
   ]
  },
  {
   "cell_type": "code",
   "execution_count": 20,
   "metadata": {
    "scrolled": false
   },
   "outputs": [
    {
     "data": {
      "text/plain": [
       "Text(0.5,1,'Total Number of Lines for Top 15 Characters in the Show ')"
      ]
     },
     "execution_count": 20,
     "metadata": {},
     "output_type": "execute_result"
    },
    {
     "data": {
      "image/png": "[encoded data removed]",
      "text/plain": [
       "<Figure size 864x432 with 1 Axes>"
      ]
     },
     "metadata": {},
     "output_type": "display_data"
    }
   ],
   "source": [
    "Characters_per_rank = (data.Characters.value_counts()).index \n",
    "data_for_count_plot = data[data.Characters.isin (Characters_per_rank[0:15])]\n",
    "plt.figure(figsize = (12, 6))\n",
    "sns.countplot(x= 'Characters', order = Characters_per_rank[0:15], palette = 'muted', data = data_for_count_plot)\n",
    "plt.xlabel(\"Characters\", fontsize=16)\n",
    "plt.ylabel(\"Numer of Lines\", fontsize=16)\n",
    "plt.xticks(rotation = 90,  fontsize=16)\n",
    "plt.yticks(  fontsize= 16)\n",
    "plt.title(\"Total Number of Lines for Top 15 Characters in the Show \",fontsize=16)"
   ]
  },
  {
   "cell_type": "code",
   "execution_count": 21,
   "metadata": {
    "scrolled": true
   },
   "outputs": [],
   "source": [
    "data_lines_per_season = pd.pivot_table(data_for_count_plot,index=[\"Characters\",\"Season\"],values=[\"Lines\"],aggfunc='count')\n",
    "data_lines_per_season = data_lines_per_season.reset_index()\n",
    "data_lines_per_season_pivot = data_lines_per_season.pivot(index='Season', columns='Characters', values='Lines')"
   ]
  },
  {
   "cell_type": "code",
   "execution_count": 22,
   "metadata": {},
   "outputs": [
    {
     "data": {
      "text/html": [
       "<div>\n",
       "<style scoped>\n",
       "    .dataframe tbody tr th:only-of-type {\n",
       "        vertical-align: middle;\n",
       "    }\n",
       "\n",
       "    .dataframe tbody tr th {\n",
       "        vertical-align: top;\n",
       "    }\n",
       "\n",
       "    .dataframe thead th {\n",
       "        text-align: right;\n",
       "    }\n",
       "</style>\n",
       "<table border=\"1\" class=\"dataframe\">\n",
       "  <thead>\n",
       "    <tr style=\"text-align: right;\">\n",
       "      <th>Characters</th>\n",
       "      <th>ALL</th>\n",
       "      <th>CAROL</th>\n",
       "      <th>CHANDLER</th>\n",
       "      <th>CHARLIE</th>\n",
       "      <th>EMILY</th>\n",
       "      <th>FRANK</th>\n",
       "      <th>JANICE</th>\n",
       "      <th>JOEY</th>\n",
       "      <th>MIKE</th>\n",
       "      <th>MONICA</th>\n",
       "      <th>PAUL</th>\n",
       "      <th>PHOEBE</th>\n",
       "      <th>RACHEL</th>\n",
       "      <th>ROSS</th>\n",
       "      <th>TAG</th>\n",
       "    </tr>\n",
       "    <tr>\n",
       "      <th>Season</th>\n",
       "      <th></th>\n",
       "      <th></th>\n",
       "      <th></th>\n",
       "      <th></th>\n",
       "      <th></th>\n",
       "      <th></th>\n",
       "      <th></th>\n",
       "      <th></th>\n",
       "      <th></th>\n",
       "      <th></th>\n",
       "      <th></th>\n",
       "      <th></th>\n",
       "      <th></th>\n",
       "      <th></th>\n",
       "      <th></th>\n",
       "    </tr>\n",
       "  </thead>\n",
       "  <tbody>\n",
       "    <tr>\n",
       "      <th>1</th>\n",
       "      <td>91.0</td>\n",
       "      <td>79.0</td>\n",
       "      <td>817.0</td>\n",
       "      <td>NaN</td>\n",
       "      <td>NaN</td>\n",
       "      <td>NaN</td>\n",
       "      <td>38.0</td>\n",
       "      <td>640.0</td>\n",
       "      <td>NaN</td>\n",
       "      <td>872.0</td>\n",
       "      <td>17.0</td>\n",
       "      <td>637.0</td>\n",
       "      <td>850.0</td>\n",
       "      <td>952.0</td>\n",
       "      <td>NaN</td>\n",
       "    </tr>\n",
       "    <tr>\n",
       "      <th>2</th>\n",
       "      <td>8.0</td>\n",
       "      <td>29.0</td>\n",
       "      <td>170.0</td>\n",
       "      <td>NaN</td>\n",
       "      <td>NaN</td>\n",
       "      <td>NaN</td>\n",
       "      <td>7.0</td>\n",
       "      <td>172.0</td>\n",
       "      <td>NaN</td>\n",
       "      <td>156.0</td>\n",
       "      <td>NaN</td>\n",
       "      <td>136.0</td>\n",
       "      <td>177.0</td>\n",
       "      <td>278.0</td>\n",
       "      <td>NaN</td>\n",
       "    </tr>\n",
       "    <tr>\n",
       "      <th>3</th>\n",
       "      <td>55.0</td>\n",
       "      <td>27.0</td>\n",
       "      <td>825.0</td>\n",
       "      <td>NaN</td>\n",
       "      <td>NaN</td>\n",
       "      <td>79.0</td>\n",
       "      <td>62.0</td>\n",
       "      <td>775.0</td>\n",
       "      <td>3.0</td>\n",
       "      <td>847.0</td>\n",
       "      <td>NaN</td>\n",
       "      <td>793.0</td>\n",
       "      <td>925.0</td>\n",
       "      <td>1075.0</td>\n",
       "      <td>NaN</td>\n",
       "    </tr>\n",
       "    <tr>\n",
       "      <th>4</th>\n",
       "      <td>39.0</td>\n",
       "      <td>11.0</td>\n",
       "      <td>912.0</td>\n",
       "      <td>NaN</td>\n",
       "      <td>138.0</td>\n",
       "      <td>28.0</td>\n",
       "      <td>27.0</td>\n",
       "      <td>816.0</td>\n",
       "      <td>4.0</td>\n",
       "      <td>766.0</td>\n",
       "      <td>NaN</td>\n",
       "      <td>711.0</td>\n",
       "      <td>908.0</td>\n",
       "      <td>807.0</td>\n",
       "      <td>NaN</td>\n",
       "    </tr>\n",
       "    <tr>\n",
       "      <th>5</th>\n",
       "      <td>47.0</td>\n",
       "      <td>7.0</td>\n",
       "      <td>941.0</td>\n",
       "      <td>NaN</td>\n",
       "      <td>29.0</td>\n",
       "      <td>25.0</td>\n",
       "      <td>14.0</td>\n",
       "      <td>932.0</td>\n",
       "      <td>NaN</td>\n",
       "      <td>898.0</td>\n",
       "      <td>NaN</td>\n",
       "      <td>813.0</td>\n",
       "      <td>906.0</td>\n",
       "      <td>870.0</td>\n",
       "      <td>NaN</td>\n",
       "    </tr>\n",
       "  </tbody>\n",
       "</table>\n",
       "</div>"
      ],
      "text/plain": [
       "Characters   ALL  CAROL  CHANDLER  CHARLIE  EMILY  FRANK  JANICE   JOEY  MIKE  \\\n",
       "Season                                                                          \n",
       "1           91.0  79.0   817.0    NaN      NaN    NaN     38.0    640.0 NaN     \n",
       "2           8.0   29.0   170.0    NaN      NaN    NaN     7.0     172.0 NaN     \n",
       "3           55.0  27.0   825.0    NaN      NaN     79.0   62.0    775.0  3.0    \n",
       "4           39.0  11.0   912.0    NaN       138.0  28.0   27.0    816.0  4.0    \n",
       "5           47.0  7.0    941.0    NaN       29.0   25.0   14.0    932.0 NaN     \n",
       "\n",
       "Characters  MONICA  PAUL  PHOEBE  RACHEL    ROSS  TAG  \n",
       "Season                                                 \n",
       "1           872.0   17.0  637.0   850.0   952.0  NaN   \n",
       "2           156.0  NaN    136.0   177.0   278.0  NaN   \n",
       "3           847.0  NaN    793.0   925.0   1075.0 NaN   \n",
       "4           766.0  NaN    711.0   908.0   807.0  NaN   \n",
       "5           898.0  NaN    813.0   906.0   870.0  NaN   "
      ]
     },
     "execution_count": 22,
     "metadata": {},
     "output_type": "execute_result"
    }
   ],
   "source": [
    "data_lines_per_season_pivot.head()"
   ]
  },
  {
   "cell_type": "code",
   "execution_count": 23,
   "metadata": {
    "scrolled": false
   },
   "outputs": [
    {
     "data": {
      "text/plain": [
       "<matplotlib.legend.Legend at 0x1a5e6bd1da0>"
      ]
     },
     "execution_count": 23,
     "metadata": {},
     "output_type": "execute_result"
    },
    {
     "data": {
      "text/plain": [
       "<Figure size 864x432 with 0 Axes>"
      ]
     },
     "metadata": {},
     "output_type": "display_data"
    },
    {
     "data": {
      "image/png": "[encoded data removed]",
      "text/plain": [
       "<Figure size 432x288 with 1 Axes>"
      ]
     },
     "metadata": {},
     "output_type": "display_data"
    }
   ],
   "source": [
    "data_lines_per_season_pivot = data_lines_per_season.pivot(index='Season', columns='Characters', values='Lines')\n",
    "data_lines_per_season_pivot.fillna(0)\n",
    "\n",
    "#sns.set()\n",
    "plt.figure(figsize=(12,6))\n",
    "data_lines_per_season_pivot.loc[:,Characters_per_rank[:14]].plot.bar(stacked=True)\n",
    "\n",
    "plt.xlabel( \"Season\",fontsize=16)\n",
    "plt.ylabel(\"Number of Lines\", fontsize=16)\n",
    "plt.xticks(  fontsize= 16,rotation = 90)\n",
    "plt.yticks(  fontsize= 16)\n",
    "plt.title(\"Lines per Season for Top 15 Characters in the Show\",fontsize=16)\n",
    "plt.legend(loc='upper right', bbox_to_anchor=(1.3, 1),prop={'size':10})"
   ]
  },
  {
   "cell_type": "markdown",
   "metadata": {},
   "source": [
    "# Data Cleaning"
   ]
  },
  {
   "cell_type": "code",
   "execution_count": 24,
   "metadata": {},
   "outputs": [
    {
     "name": "stdout",
     "output_type": "stream",
     "text": [
      "[nltk_data] Error loading averaged_perceptron_tagger: <urlopen error\n",
      "[nltk_data]     [WinError 10060] A connection attempt failed because\n",
      "[nltk_data]     the connected party did not properly respond after a\n",
      "[nltk_data]     period of time, or established connection failed\n",
      "[nltk_data]     because connected host has failed to respond>\n",
      "[nltk_data] Error loading wordnet: <urlopen error [WinError 10060] A\n",
      "[nltk_data]     connection attempt failed because the connected party\n",
      "[nltk_data]     did not properly respond after a period of time, or\n",
      "[nltk_data]     established connection failed because connected host\n",
      "[nltk_data]     has failed to respond>\n"
     ]
    }
   ],
   "source": [
    "# Define a function to return the wordnet object value corresponding to the POS tag\n",
    "\n",
    "import nltk\n",
    "from nltk.corpus import wordnet\n",
    "from nltk import pos_tag\n",
    "nltk.download('averaged_perceptron_tagger')\n",
    "nltk.download('wordnet')\n",
    "\n",
    "def get_wordnet_pos(pos_tag):\n",
    "\n",
    "    if pos_tag.startswith('J'):\n",
    "        \n",
    "        return wordnet.ADJ\n",
    "\n",
    "    elif pos_tag.startswith('V'):\n",
    "\n",
    "        return wordnet.VERB\n",
    "\n",
    "    elif pos_tag.startswith('N'):\n",
    "\n",
    "        return wordnet.NOUN\n",
    "\n",
    "    elif pos_tag.startswith('R'):\n",
    "\n",
    "        return wordnet.ADV\n",
    "\n",
    "    else:\n",
    "\n",
    "        return wordnet.NOUN"
   ]
  },
  {
   "cell_type": "code",
   "execution_count": 25,
   "metadata": {
    "scrolled": true
   },
   "outputs": [],
   "source": [
    "# write a function to clean text    \n",
    "import string\n",
    "from nltk import pos_tag\n",
    "from nltk.corpus import stopwords\n",
    "from nltk.tokenize import WhitespaceTokenizer\n",
    "from nltk.stem import WordNetLemmatizer\n",
    "\n",
    "def clean_text(text):\n",
    "\n",
    "    # lower text\n",
    "    text = text.lower()\n",
    "\n",
    "    # tokenize text for space and \\n\n",
    "    text = re.split('\\s+|\\n',text)\n",
    "    \n",
    "    # remove puncutation\n",
    "    text = [word.strip(string.punctuation) for word in text]\n",
    "\n",
    "    # remove words that contain numbers\n",
    "    text = [word for word in text if not any(c.isdigit() for c in word)]\n",
    "\n",
    "    # remove stop words\n",
    "    stop = set(stopwords.words('english'))\n",
    "    text = [x for x in text if x not in stop]\n",
    "\n",
    "    # remove empty tokens\n",
    "    text = [t for t in text if len(t) > 0]\n",
    "\n",
    "    # pos tag text\n",
    "    pos_tags = pos_tag(text)\n",
    "\n",
    "    # create a (word, pos_tag) tuple for each word in text and then lemmatize text\n",
    "    text = [WordNetLemmatizer().lemmatize(t[0], get_wordnet_pos(t[1])) for t in pos_tags]\n",
    "\n",
    "    # remove words with only one letter\n",
    "    text = [t for t in text if len(t) > 1]\n",
    "\n",
    "    # join all\n",
    "    text = \" \".join(text)\n",
    "\n",
    "    return(text)\n",
    "\n",
    "# call the function to clean text data\n",
    "data[\"Lines\"] = data[\"Lines\"].apply(lambda x: clean_text(x))\n",
    "data[\"Lines\"].head()\n",
    "\n",
    "# Eliminate any row with no entry fordata['Lines'] after cleaning \n",
    "data['Lines'].replace('', np.NaN, inplace=True)\n",
    "data.dropna(inplace=True)"
   ]
  },
  {
   "cell_type": "code",
   "execution_count": 26,
   "metadata": {},
   "outputs": [
    {
     "data": {
      "text/html": [
       "<div>\n",
       "<style scoped>\n",
       "    .dataframe tbody tr th:only-of-type {\n",
       "        vertical-align: middle;\n",
       "    }\n",
       "\n",
       "    .dataframe tbody tr th {\n",
       "        vertical-align: top;\n",
       "    }\n",
       "\n",
       "    .dataframe thead th {\n",
       "        text-align: right;\n",
       "    }\n",
       "</style>\n",
       "<table border=\"1\" class=\"dataframe\">\n",
       "  <thead>\n",
       "    <tr style=\"text-align: right;\">\n",
       "      <th></th>\n",
       "      <th>Episodes</th>\n",
       "      <th>Episode_Names</th>\n",
       "      <th>Characters</th>\n",
       "      <th>Lines</th>\n",
       "      <th>Season</th>\n",
       "    </tr>\n",
       "  </thead>\n",
       "  <tbody>\n",
       "    <tr>\n",
       "      <th>0</th>\n",
       "      <td>101</td>\n",
       "      <td>Monica Gets A Roommate</td>\n",
       "      <td>MONICA</td>\n",
       "      <td>there's nothing tell he's guy work</td>\n",
       "      <td>1</td>\n",
       "    </tr>\n",
       "    <tr>\n",
       "      <th>1</th>\n",
       "      <td>101</td>\n",
       "      <td>Monica Gets A Roommate</td>\n",
       "      <td>JOEY</td>\n",
       "      <td>c'mon go guy there's gotta something wrong</td>\n",
       "      <td>1</td>\n",
       "    </tr>\n",
       "    <tr>\n",
       "      <th>2</th>\n",
       "      <td>101</td>\n",
       "      <td>Monica Gets A Roommate</td>\n",
       "      <td>CHANDLER</td>\n",
       "      <td>right joey nice hump hump hairpiece</td>\n",
       "      <td>1</td>\n",
       "    </tr>\n",
       "    <tr>\n",
       "      <th>3</th>\n",
       "      <td>101</td>\n",
       "      <td>Monica Gets A Roommate</td>\n",
       "      <td>PHOEBE</td>\n",
       "      <td>wait eat chalk</td>\n",
       "      <td>1</td>\n",
       "    </tr>\n",
       "    <tr>\n",
       "      <th>4</th>\n",
       "      <td>101</td>\n",
       "      <td>Monica Gets A Roommate</td>\n",
       "      <td>PHOEBE</td>\n",
       "      <td>cause want go go carl oh</td>\n",
       "      <td>1</td>\n",
       "    </tr>\n",
       "  </tbody>\n",
       "</table>\n",
       "</div>"
      ],
      "text/plain": [
       "  Episodes             Episode_Names Characters  \\\n",
       "0  101       Monica Gets A Roommate   MONICA      \n",
       "1  101       Monica Gets A Roommate   JOEY        \n",
       "2  101       Monica Gets A Roommate   CHANDLER    \n",
       "3  101       Monica Gets A Roommate   PHOEBE      \n",
       "4  101       Monica Gets A Roommate   PHOEBE      \n",
       "\n",
       "                                        Lines  Season  \n",
       "0  there's nothing tell he's guy work          1       \n",
       "1  c'mon go guy there's gotta something wrong  1       \n",
       "2  right joey nice hump hump hairpiece         1       \n",
       "3  wait eat chalk                              1       \n",
       "4  cause want go go carl oh                    1       "
      ]
     },
     "execution_count": 26,
     "metadata": {},
     "output_type": "execute_result"
    }
   ],
   "source": [
    "data.head()"
   ]
  },
  {
   "cell_type": "code",
   "execution_count": 31,
   "metadata": {},
   "outputs": [],
   "source": [
    "# keep a list of all words and a set for all characters for future use in the code\n",
    "import itertools\n",
    "line_tokenized = [ re.split(' ',text) for text in data['Lines'].dropna()]\n",
    "all_words = list(itertools.chain.from_iterable(line_tokenized))\n",
    "all_characters = set(data.Characters)"
   ]
  },
  {
   "cell_type": "markdown",
   "metadata": {},
   "source": [
    "# Interactive EDA: Visualize Word/Letter Density for Different Actors"
   ]
  },
  {
   "cell_type": "code",
   "execution_count": 28,
   "metadata": {
    "scrolled": false
   },
   "outputs": [
    {
     "data": {
      "application/vnd.jupyter.widget-view+json": {
       "model_id": "2465c2dc92354437ae1ace6ccc5c6b0c",
       "version_major": 2,
       "version_minor": 0
      },
      "text/plain": [
       "interactive(children=(Dropdown(description='Character_Name', options=('RACHEL', 'ROSS', 'CHANDLER', 'MONICA', …"
      ]
     },
     "metadata": {},
     "output_type": "display_data"
    },
    {
     "data": {
      "text/plain": [
       "<function __main__.word_letter_density_distribution(Character_Name)>"
      ]
     },
     "execution_count": 28,
     "metadata": {},
     "output_type": "execute_result"
    }
   ],
   "source": [
    "# create figure\n",
    "import ipywidgets as widgets\n",
    "from ipywidgets import interact\n",
    "\n",
    "def word_letter_density_distribution(Character_Name):\n",
    "    f, ax1 = plt.subplots(figsize=(12,5))\n",
    "\n",
    "    if Character_Name in all_characters:\n",
    "        letter_count  = data[\"Lines\"][data.Characters == Character_Name].str.len()\n",
    "        word_count    =  data[\"Lines\"][data.Characters == Character_Name].str.split(' ').str.len()\n",
    "    else:\n",
    "        letter_count  = data[\"Lines\"].str.len()\n",
    "        word_count    =  data[\"Lines\"].str.split(' ').str.len()\n",
    "    plt1 = sns.distplot(letter_count[letter_count<1000], ax=ax1, label='letters')\n",
    "    plt2 = sns.distplot(word_count[word_count<1000], ax=ax1, color='orange', label='words')\n",
    "\n",
    "    # add legend, title, and labels\n",
    "    legend = plt.legend( prop={'size': 16})\n",
    "    title = plt.title('Density of word and letter counts in lines of the transcripts')\n",
    "    labels = ax1.set(xlabel='Number of Letters or Words', ylabel='Density')\n",
    "\n",
    "    ax1.set_xlim(0, 200)\n",
    "    ax1.set_ylim(0, 0.25)\n",
    "\n",
    "    for item in ([ax1.title, ax1.xaxis.label, ax1.yaxis.label] +\n",
    "             ax1.get_xticklabels() + ax1.get_yticklabels()):\n",
    "        item.set_fontsize(16)\n",
    "      \n",
    "# features to visualize\n",
    "Selection_Options = list(Characters_per_rank[:20])\n",
    "Selection_Options.append('All Characters')\n",
    "style = {'description_width': 'initial'}\n",
    "warnings.filterwarnings('ignore')\n",
    "interact(word_letter_density_distribution, Character_Name = Selection_Options,style = style)\n"
   ]
  },
  {
   "cell_type": "markdown",
   "metadata": {},
   "source": [
    "# Cumulative Distribution of Word Density for Lines in the Transcript"
   ]
  },
  {
   "cell_type": "code",
   "execution_count": 29,
   "metadata": {
    "scrolled": true
   },
   "outputs": [
    {
     "data": {
      "image/png": "[encoded data removed]",
      "text/plain": [
       "<Figure size 864x360 with 1 Axes>"
      ]
     },
     "metadata": {},
     "output_type": "display_data"
    }
   ],
   "source": [
    "def ECDF(Character_Name1):\n",
    "    if Character_Name1 in all_characters:\n",
    "        word_count1    =  data[\"Lines\"][data.Characters == Character_Name1].str.split(' ').str.len() \n",
    "    else: \n",
    "        word_count1    =  data[\"Lines\"].str.split(' ').str.len()\n",
    "    \n",
    "           \n",
    "    x1 = np.sort(word_count1)\n",
    "    n1 = len(word_count1)\n",
    "    y1 = np.arange(1, n1+1) / n1\n",
    "    return x1,y1\n",
    "    \n",
    "\n",
    "x1,y1 = ECDF('ROSS')\n",
    "x2,y2 = ECDF('PHOEBE')\n",
    "x3,y3 = ECDF ('JANICE')\n",
    "x4,y4 = ECDF ('MIKE')\n",
    "x5,y5 = ECDF('ALL')\n",
    "\n",
    "plt.figure(figsize = (12,5))\n",
    "\n",
    "plt.plot(x1 , y1,marker = '.' , linestyle = 'none', label = 'ROSS')\n",
    "plt.plot(x2 , y2 ,marker = '.' , linestyle = 'none', label = 'PHOEBE')\n",
    "plt.plot(x3 , y3 ,marker = '.' , linestyle = 'none', label = 'JANICE')\n",
    "plt.plot(x4 , y4,marker = '.' , linestyle = 'none', label = 'MIKE')\n",
    "plt.plot(x5 , y5 ,marker = '.' , linestyle = 'none', label = 'All Characters')\n",
    "\n",
    "# Label the axes\n",
    "plt.xlabel('Word Count', fontsize= 16)\n",
    "plt.ylabel('ECDF',fontsize= 16)\n",
    "plt.xticks(  fontsize= 16)\n",
    "plt.yticks(  fontsize= 16)\n",
    "plt.title(\"CDF for Word Count per Line\",fontsize=16)\n",
    "#plt.legend(loc='lower right', bbox_to_anchor=(1.3, 1),prop={'size':10})\n",
    "plt.legend(loc='lower right')\n",
    "plt.xlim([0,60])\n",
    "plt.show()\n"
   ]
  },
  {
   "cell_type": "markdown",
   "metadata": {},
   "source": [
    "# Interactive EDA: WordCloud for Leading Actors"
   ]
  },
  {
   "cell_type": "code",
   "execution_count": 30,
   "metadata": {},
   "outputs": [],
   "source": [
    "from wordcloud import WordCloud\n",
    "import matplotlib.pyplot as plt\n",
    "from PIL import Image\n",
    "from resizeimage import resizeimage\n",
    "from collections import Counter\n",
    "\n",
    "#define a function to plot word cloud\n",
    "\n",
    "def show_wordcloud(data,Filter_Common_Words, Desired_Character = 'All Friends'):\n",
    "    \n",
    "    \n",
    "    #define the image mask for word_cloud plot\n",
    "  \n",
    "    image = Image.open('Figures\\{0}.png'.format( Desired_Character))\n",
    "        \n",
    "    mask = np.array(image)\n",
    "    def transform_format(val):\n",
    "        if val == 0:\n",
    "            return 255\n",
    "        else:\n",
    "            return val\n",
    "    \n",
    "    transformed_mask = np.ndarray((mask.shape[0],mask.shape[1]), np.int32)\n",
    "\n",
    "    for i in range(len(mask)):\n",
    "        transformed_mask[i] = list(map(transform_format, mask[i]))\n",
    "    \n",
    "    # Select a list of most common words to filter from the word cloud\n",
    "    \n",
    "    if Filter_Common_Words>0:\n",
    "        \n",
    "        #sort all word per their frequency and make a list to filter\n",
    "        list1=all_words\n",
    "        counts = Counter(list1)\n",
    "        most_common = sorted(counts, key=counts.get, reverse=True)[0:Filter_Common_Words]\n",
    "        \n",
    "        #make sure that names of the characters are not in the filter\n",
    "        most_common = [word  for word in most_common if not word.upper() in all_characters]\n",
    "        most_common.append('NaN')\n",
    "\n",
    "        wordcloud = WordCloud (stopwords=most_common,\n",
    "                                width=800, height=400,\n",
    "                                background_color = 'white',\n",
    "                                scale =3,\n",
    "                                max_words = 200, \n",
    "                                mask = transformed_mask,\n",
    "                                random_state = 42, \n",
    "                                contour_width=3, contour_color='steelblue'\n",
    "                             ).generate(str(data))\n",
    "    else:\n",
    "         wordcloud = WordCloud (width=800, height=400,\n",
    "                                background_color = 'white',\n",
    "                                scale =3,\n",
    "                                max_words = 250, \n",
    "                                mask = transformed_mask,\n",
    "                                random_state = 42, \n",
    "                                contour_width=3, contour_color='steelblue',\n",
    "                                collocations = False,\n",
    "                             ).generate(str(data))\n",
    "        \n",
    "    # plot wordcloud\n",
    "    fig = plt.figure(1, figsize = (10, 10))\n",
    "    plt.title('WordCloud: {0}'.format(Desired_Character), FontSize = 32, loc= 'center')\n",
    "    plt.axis('off')\n",
    "    \n",
    "    fig.subplots_adjust(top = 2.3)\n",
    "    \n",
    "    plt.tight_layout()\n",
    "    # show plot\n",
    "    plt.imshow(wordcloud,interpolation='bilinear')"
   ]
  },
  {
   "cell_type": "markdown",
   "metadata": {},
   "source": [
    "# Make a list of most common words"
   ]
  },
  {
   "cell_type": "code",
   "execution_count": 32,
   "metadata": {
    "scrolled": false
   },
   "outputs": [
    {
     "data": {
      "application/vnd.jupyter.widget-view+json": {
       "model_id": "322ae06c601c4bd9ab0143bdab0357d5",
       "version_major": 2,
       "version_minor": 0
      },
      "text/plain": [
       "interactive(children=(Dropdown(description='Desired_Character', options=('ROSS', 'MONICA', 'RACHEL', 'PHOEBE',…"
      ]
     },
     "metadata": {},
     "output_type": "display_data"
    },
    {
     "data": {
      "text/plain": [
       "<function __main__.wordcloud_generator(Desired_Character, Filter_Common_Words)>"
      ]
     },
     "execution_count": 32,
     "metadata": {},
     "output_type": "execute_result"
    }
   ],
   "source": [
    "import ipywidgets as widgets\n",
    "\n",
    "from ipywidgets import interact\n",
    "\n",
    "def wordcloud_generator(Desired_Character, Filter_Common_Words):\n",
    "    if Desired_Character in all_characters:\n",
    "        show_wordcloud(data[\"Lines\"][data.Characters == Desired_Character], Filter_Common_Words, Desired_Character)\n",
    "    else:\n",
    "         show_wordcloud(data[\"Lines\"], Filter_Common_Words)\n",
    "     \n",
    "# features to visualize\n",
    "\n",
    "\n",
    "style = {'description_width': 'initial'}\n",
    "slider_range = widgets.IntSlider(value=1000, min=0, max=15149,style=style)\n",
    "slider_range.style.handle_color = 'lightblue'\n",
    "\n",
    "origin = widgets.Dropdown(\n",
    "    options=list( ['ROSS','MONICA','RACHEL','PHOEBE','JOEY','CHANDLER', 'All Friends']),\n",
    "    description='Desired_Character',style = style)\n",
    "    \n",
    "interact(wordcloud_generator, Desired_Character = origin, Filter_Common_Words = slider_range,style = style)\n"
   ]
  },
  {
   "cell_type": "markdown",
   "metadata": {},
   "source": [
    "# Export DataFrame for Further Analysis"
   ]
  },
  {
   "cell_type": "code",
   "execution_count": null,
   "metadata": {},
   "outputs": [],
   "source": [
    "#There are 305 chacracters, lets limit the analysis for top 15 to simplify the project\n",
    "# import data\n",
    "data.to_csv('data_clean.csv', encoding = 'utf-8')\n"
   ]
  },
  {
   "cell_type": "code",
   "execution_count": null,
   "metadata": {},
   "outputs": [],
   "source": [
    "threshold = 15\n",
    "data = data[data.Characters.isin(Characters_per_rank[0:threshold])]\n",
    "tokenized_data = data[\"Lines\"].apply(lambda text: re.split(' ',text))\n",
    "my_tags = Characters_per_rank[0:threshold]\n",
    "# Label Character\n",
    "from sklearn import preprocessing\n",
    "label = preprocessing.LabelEncoder()\n",
    "target = label.fit_transform(data['Characters'].astype(str))"
   ]
  }
 ],
 "metadata": {
  "kernelspec": {
   "display_name": "Python 3",
   "language": "python",
   "name": "python3"
  },
  "language_info": {
   "codemirror_mode": {
    "name": "ipython",
    "version": 3
   },
   "file_extension": ".py",
   "mimetype": "text/x-python",
   "name": "python",
   "nbconvert_exporter": "python",
   "pygments_lexer": "ipython3",
   "version": "3.6.6"
  }
 },
 "nbformat": 4,
 "nbformat_minor": 2
}
